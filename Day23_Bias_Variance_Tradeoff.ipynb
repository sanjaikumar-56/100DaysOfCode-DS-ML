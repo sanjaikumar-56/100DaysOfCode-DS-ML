# Day 23 - Bias-Variance Tradeoff
from sklearn.datasets import make_regression
from sklearn.linear_model import LinearRegression
from sklearn.preprocessing import PolynomialFeatures
from sklearn.model_selection import train_test_split
from sklearn.metrics import mean_squared_error
import matplotlib.pyplot as plt

# Generate data
X, y = make_regression(n_samples=100, n_features=1, noise=20, random_state=42)
X_train, X_test, y_train, y_test = train_test_split(X, y, test_size=0.3, random_state=42)

train_error, test_error = [], []
degrees = range(1, 10)

# Train multiple models with increasing complexity
for d in degrees:
    poly = PolynomialFeatures(degree=d)
    X_train_poly = poly.fit_transform(X_train)
    X_test_poly = poly.transform(X_test)
    
    model = LinearRegression().fit(X_train_poly, y_train)
    train_error.append(mean_squared_error(y_train, model.predict(X_train_poly)))
    test_error.append(mean_squared_error(y_test, model.predict(X_test_poly)))

# Plot
plt.plot(degrees, train_error, label='Train Error', marker='o')
plt.plot(degrees, test_error, label='Test Error', marker='s')
plt.xlabel('Model Complexity (Polynomial Degree)')
plt.ylabel('Mean Squared Error')
plt.title('Bias-Variance Tradeoff')
plt.legend()
plt.show()
